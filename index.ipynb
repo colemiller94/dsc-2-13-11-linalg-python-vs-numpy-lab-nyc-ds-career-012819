{
 "cells": [
  {
   "cell_type": "markdown",
   "metadata": {},
   "source": [
    "# Pure Python vs. Numpy - Lab\n",
    "\n",
    "## Introduction \n",
    "\n",
    "Numpy, Scipy and Pandas libraries provide a significant increase in computational efficiency with complex mathematical operations as compared to Python's built in arithmatic functions.  In this lab we shall calculate and compare the processing speed required for calculating a dot product both using basic arithmatic operations in Python and Numpy's `.dot()` method. \n",
    "\n",
    "## Objectives\n",
    "You will be able to:\n",
    "* Compare the performance of high dimensional matrix operations in Numpy vs. pure Python"
   ]
  },
  {
   "cell_type": "markdown",
   "metadata": {},
   "source": [
    "## Problem\n",
    "> **Write a routine to calculate the dot product between two 200 x 200 dimensional matrices using:**\n",
    "\n",
    "> **a) Pure Python**\n",
    "\n",
    "> **b) Numpy's `.dot()`**\n",
    "\n",
    "\n",
    "### Create two 200 x 200 matrices in Python and fill them with random values using `np.random.rand()` "
   ]
  },
  {
   "cell_type": "code",
   "execution_count": 4,
   "metadata": {},
   "outputs": [
    {
     "data": {
      "text/plain": [
       "array([[0.94859876, 0.46054928, 0.48908836, ..., 0.39776708, 0.58798635,\n",
       "        0.53462145],\n",
       "       [0.43022773, 0.14653693, 0.11596712, ..., 0.85153577, 0.32783337,\n",
       "        0.87517509],\n",
       "       [0.11460985, 0.31976271, 0.1510288 , ..., 0.74897086, 0.41279657,\n",
       "        0.92089054],\n",
       "       ...,\n",
       "       [0.35539913, 0.39660795, 0.11819153, ..., 0.60188104, 0.79197987,\n",
       "        0.47751935],\n",
       "       [0.13901686, 0.68830137, 0.37325188, ..., 0.96765101, 0.344009  ,\n",
       "        0.75902847],\n",
       "       [0.0190804 , 0.83085723, 0.48373592, ..., 0.80572176, 0.97796638,\n",
       "        0.2223063 ]])"
      ]
     },
     "execution_count": 4,
     "metadata": {},
     "output_type": "execute_result"
    }
   ],
   "source": [
    "np.random.rand(200,200)"
   ]
  },
  {
   "cell_type": "code",
   "execution_count": 5,
   "metadata": {},
   "outputs": [],
   "source": [
    "# Compare 200x200 matrix-matrix multiplication speed\n",
    "import numpy as np\n",
    "# Set up the variables\n",
    "A = np.random.rand(200,200)\n",
    "\n",
    "B = np.random.rand(200,200)\n"
   ]
  },
  {
   "cell_type": "markdown",
   "metadata": {},
   "source": [
    "### Pure Python\n",
    "\n",
    "* Initialize an zeros filled numpy matrix with necessary rows and columns for storing result. \n",
    "* In Python Calculate the dot product using the formula \n",
    "![](formula.png)\n",
    "* Use Python's `timeit` library to calculate the processing time. \n",
    "* [Visit this link](https://www.pythoncentral.io/time-a-python-function/) for an indepth explanation on how to time a function or routine in python. \n",
    "\n",
    "**Hint**: Use nested for loop for accessing, calculating and storing each scalar value in the result matrix."
   ]
  },
  {
   "cell_type": "code",
   "execution_count": 8,
   "metadata": {},
   "outputs": [
    {
     "data": {
      "text/plain": [
       "array([0.70439742, 0.13872684, 0.78772912, 0.49198928, 0.95609117,\n",
       "       0.66609755, 0.47844159, 0.70855624, 0.28717618, 0.5357675 ,\n",
       "       0.81156898, 0.44107233, 0.78826242, 0.63746309, 0.74023225,\n",
       "       0.08977532, 0.16829645, 0.99249022, 0.92348638, 0.16767382,\n",
       "       0.39623304, 0.40907131, 0.9217148 , 0.37693669, 0.11372537,\n",
       "       0.82967843, 0.3514865 , 0.41086164, 0.70220116, 0.81134288,\n",
       "       0.56150217, 0.09087218, 0.01068917, 0.69853612, 0.11214597,\n",
       "       0.92543344, 0.24112191, 0.50399956, 0.49757696, 0.46595874,\n",
       "       0.658915  , 0.15919192, 0.33166563, 0.02708576, 0.34856204,\n",
       "       0.74610628, 0.81819306, 0.81103402, 0.26193822, 0.76522303,\n",
       "       0.12949797, 0.29330174, 0.36780279, 0.65231171, 0.37061455,\n",
       "       0.93254495, 0.71103395, 0.40667689, 0.01227912, 0.42780108,\n",
       "       0.81127673, 0.68753462, 0.71443672, 0.29097469, 0.46742326,\n",
       "       0.0330562 , 0.65312766, 0.92248934, 0.79634925, 0.83459261,\n",
       "       0.80446713, 0.33278483, 0.27478738, 0.3662986 , 0.86633177,\n",
       "       0.57636044, 0.79802796, 0.122792  , 0.18296599, 0.73667427,\n",
       "       0.85093383, 0.55091903, 0.37071632, 0.84945269, 0.55803754,\n",
       "       0.69667875, 0.61731138, 0.94687881, 0.73561902, 0.5687283 ,\n",
       "       0.20166968, 0.8327363 , 0.70872172, 0.73797142, 0.27830692,\n",
       "       0.80377402, 0.33465122, 0.26172905, 0.9652665 , 0.56248592,\n",
       "       0.89689539, 0.30846284, 0.3763824 , 0.50326048, 0.54641803,\n",
       "       0.00475392, 0.75299725, 0.21050036, 0.22183775, 0.30758066,\n",
       "       0.36217353, 0.54980505, 0.48794549, 0.47373505, 0.1416377 ,\n",
       "       0.90065679, 0.71116032, 0.45324339, 0.51210316, 0.6312542 ,\n",
       "       0.30629954, 0.53760885, 0.15570812, 0.56721091, 0.80817575,\n",
       "       0.50098433, 0.63124679, 0.97492835, 0.08626557, 0.94627611,\n",
       "       0.85921821, 0.36615356, 0.9160833 , 0.77373885, 0.55004036,\n",
       "       0.27019995, 0.02122992, 0.45903567, 0.30350333, 0.32255161,\n",
       "       0.46819189, 0.3706975 , 0.25004382, 0.074351  , 0.12616241,\n",
       "       0.64027344, 0.47598016, 0.13428242, 0.25799835, 0.39923526,\n",
       "       0.20892419, 0.6629101 , 0.4443901 , 0.88850002, 0.37455209,\n",
       "       0.46379799, 0.53549541, 0.34855295, 0.90534322, 0.61769   ,\n",
       "       0.55360985, 0.85267491, 0.3221195 , 0.80998421, 0.59318749,\n",
       "       0.48392584, 0.36983   , 0.20678385, 0.76684836, 0.34189444,\n",
       "       0.99136127, 0.19633603, 0.76794775, 0.07747504, 0.64057908,\n",
       "       0.48969638, 0.35786724, 0.52782604, 0.66810341, 0.90398019,\n",
       "       0.2504913 , 0.30739751, 0.60258709, 0.95119592, 0.24342667,\n",
       "       0.72912471, 0.30735089, 0.52059069, 0.60697481, 0.83834367,\n",
       "       0.16271053, 0.62866276, 0.44985981, 0.8696794 , 0.65294614,\n",
       "       0.53891608, 0.09775451, 0.53336445, 0.95081687, 0.64976031])"
      ]
     },
     "execution_count": 8,
     "metadata": {},
     "output_type": "execute_result"
    }
   ],
   "source": [
    "A[1]"
   ]
  },
  {
   "cell_type": "code",
   "execution_count": 3,
   "metadata": {},
   "outputs": [
    {
     "name": "stdout",
     "output_type": "stream",
     "text": [
      "Pure Python Time: None sec.\n"
     ]
    }
   ],
   "source": [
    "import timeit\n",
    "\n",
    "# Start the timer\n",
    "start = None\n",
    "\n",
    "# Matrix multiplication in pure Python\n",
    "def dot_prod(A,B):\n",
    "    \n",
    "\n",
    "\n",
    "time_spent = None\n",
    "\n",
    "print('Pure Python Time:', time_spent, 'sec.')"
   ]
  },
  {
   "cell_type": "markdown",
   "metadata": {},
   "source": [
    "## Numpy \n",
    "Set the timer and calculate the time taken by `.dot()` function for multiplying A and B \n"
   ]
  },
  {
   "cell_type": "code",
   "execution_count": 4,
   "metadata": {},
   "outputs": [
    {
     "name": "stdout",
     "output_type": "stream",
     "text": [
      "Numpy Time: None sec.\n"
     ]
    }
   ],
   "source": [
    "# start the timer\n",
    "start = None\n",
    "\n",
    "# Matrix multiplication in numpy\n",
    "\n",
    "\n",
    "time_spent = None\n",
    "print('Numpy Time:', time_spent, 'sec.')"
   ]
  },
  {
   "cell_type": "markdown",
   "metadata": {},
   "source": [
    "### Your comments "
   ]
  },
  {
   "cell_type": "markdown",
   "metadata": {},
   "source": [
    "```\n",
    "```"
   ]
  },
  {
   "cell_type": "markdown",
   "metadata": {},
   "source": [
    "## Summary\n",
    "\n",
    "In this lab, we performed a quick comparison between calculating a dot product in numpy vs python built in function. We saw that Numpy is computationally much more efficient that Python code due to highly sophisticated implementation of Numpy source code. You are encouraged to always perform such tests to fully appreciate the use of an additional library in Python. "
   ]
  }
 ],
 "metadata": {
  "kernelspec": {
   "display_name": "Python 3",
   "language": "python",
   "name": "python3"
  },
  "language_info": {
   "codemirror_mode": {
    "name": "ipython",
    "version": 3
   },
   "file_extension": ".py",
   "mimetype": "text/x-python",
   "name": "python",
   "nbconvert_exporter": "python",
   "pygments_lexer": "ipython3",
   "version": "3.6.6"
  }
 },
 "nbformat": 4,
 "nbformat_minor": 2
}
